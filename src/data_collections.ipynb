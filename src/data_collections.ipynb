{
 "cells": [
  {
   "cell_type": "code",
   "execution_count": null,
   "metadata": {
    "colab": {
     "base_uri": "https://localhost:8080/"
    },
    "id": "YojZ-2RKf6BZ",
    "outputId": "31c3bab1-4f48-4ae9-a760-71d75854de72"
   },
   "outputs": [
    {
     "name": "stdout",
     "output_type": "stream",
     "text": [
      "Requirement already satisfied: pandas_ta in /Users/Alexandra/Documents/pythonProject/COMM599/.venv/lib/python3.9/site-packages (0.3.14b0)\n",
      "Requirement already satisfied: pandas in /Users/Alexandra/Documents/pythonProject/COMM599/.venv/lib/python3.9/site-packages (from pandas_ta) (1.5.3)\n",
      "Requirement already satisfied: python-dateutil>=2.8.1 in /Users/Alexandra/Documents/pythonProject/COMM599/.venv/lib/python3.9/site-packages (from pandas->pandas_ta) (2.9.0.post0)\n",
      "Requirement already satisfied: pytz>=2020.1 in /Users/Alexandra/Documents/pythonProject/COMM599/.venv/lib/python3.9/site-packages (from pandas->pandas_ta) (2024.2)\n",
      "Requirement already satisfied: numpy>=1.20.3 in /Users/Alexandra/Documents/pythonProject/COMM599/.venv/lib/python3.9/site-packages (from pandas->pandas_ta) (1.23.5)\n",
      "Requirement already satisfied: six>=1.5 in /Users/Alexandra/Documents/pythonProject/COMM599/.venv/lib/python3.9/site-packages (from python-dateutil>=2.8.1->pandas->pandas_ta) (1.16.0)\n",
      "Note: you may need to restart the kernel to use updated packages.\n"
     ]
    }
   ],
   "source": [
    "%pip install pandas_ta"
   ]
  },
  {
   "cell_type": "code",
   "execution_count": 1,
   "metadata": {
    "id": "4SAhZePQtcZi"
   },
   "outputs": [],
   "source": [
    "import yfinance as yf\n",
    "import numpy as np\n",
    "import pandas as pd\n",
    "from datetime import datetime\n",
    "import os\n",
    "import matplotlib.pyplot as plt\n",
    "import pandas_ta as ta\n",
    "from scipy import stats"
   ]
  },
  {
   "cell_type": "markdown",
   "metadata": {
    "id": "4FE13rOCd_8m"
   },
   "source": [
    "# 1. Data Collection"
   ]
  },
  {
   "cell_type": "markdown",
   "metadata": {
    "id": "Z0Su7lUHiC3t"
   },
   "source": [
    "The whole dataset is retrieved by yfinance package.\n",
    "\n",
    "The retrieved date is 11/14/2024, time frame is 5 year."
   ]
  },
  {
   "cell_type": "code",
   "execution_count": 27,
   "metadata": {
    "id": "ojwM77DCvCgl"
   },
   "outputs": [],
   "source": [
    "def download_data(ticker, ideal_period='5y'):\n",
    "  \"\"\"\n",
    "  Try to download data for the given ticker with a specified period:5y.\n",
    "  After several trys, I realize for some tickers, the 5y time frame is unavailable.\n",
    "  Then it'll fall back to shorter periods.\n",
    "  \"\"\"\n",
    "\n",
    "  periods = [ideal_period, \"2y\", \"1y\"]\n",
    "  for period in periods:\n",
    "    try:\n",
    "      data = yf.download(ticker, period=period, interval='1d')\n",
    "      return data\n",
    "\n",
    "    except Exception as e:\n",
    "      print(f\"{ticker}: Period '{period}' unavailable, trying next period\")\n",
    "      continue\n",
    "  print(f\"Failed to download {ticker} data.\")\n",
    "  return None"
   ]
  },
  {
   "cell_type": "code",
   "execution_count": 28,
   "metadata": {
    "id": "yNLKnQA6wK97"
   },
   "outputs": [],
   "source": [
    "def collect_and_save_data(ticker_list, output_file_path):\n",
    "  \"\"\"\n",
    "  Collects stock data for a list of tickers and saves it to a CSV file.\n",
    "  \"\"\"\n",
    "\n",
    "  all_data=[]\n",
    "\n",
    "  for ticker in ticker_list:\n",
    "    ticker_data = download_data(ticker)\n",
    "    if ticker_data is not None:\n",
    "      ticker_data = ticker_data.reset_index() # avoid redudant index cols\n",
    "      ticker_data.columns = ['Date', 'Open', 'High', 'Low', 'Close', 'Adj Close', 'Volume']\n",
    "      ticker_data['Ticker'] = ticker\n",
    "      all_data.append(ticker_data)\n",
    "\n",
    "  if all_data:\n",
    "    combined_data = pd.concat(all_data, axis=0) # combine all data downloaded\n",
    "\n",
    "    output_dir = os.path.dirname(output_file_path) # save to csv file\n",
    "    os.makedirs(output_dir, exist_ok=True)\n",
    "\n",
    "    column_order = ['Date', 'Ticker', 'Open', 'High', 'Low', 'Close', 'Adj Close', 'Volume']\n",
    "    combined_data = combined_data[column_order]\n",
    "    combined_data.to_csv(output_file_path, index=False)\n",
    "    print(f\"Data successfully saved to {output_file_path}\")\n",
    "  else:\n",
    "    print(\"No data to save.\")"
   ]
  },
  {
   "cell_type": "code",
   "execution_count": 29,
   "metadata": {
    "colab": {
     "base_uri": "https://localhost:8080/"
    },
    "id": "yE7o1WQ4w5yV",
    "outputId": "beabe173-dd64-4d10-c6bc-ec3a2eda817b"
   },
   "outputs": [
    {
     "name": "stderr",
     "output_type": "stream",
     "text": [
      "[*********************100%***********************]  1 of 1 completed\n",
      "[*********************100%***********************]  1 of 1 completed\n",
      "[*********************100%***********************]  1 of 1 completed\n",
      "[*********************100%***********************]  1 of 1 completed\n",
      "[*********************100%***********************]  1 of 1 completed\n",
      "[*********************100%***********************]  1 of 1 completed\n",
      "[*********************100%***********************]  1 of 1 completed\n",
      "[*********************100%***********************]  1 of 1 completed\n",
      "[*********************100%***********************]  1 of 1 completed\n",
      "[*********************100%***********************]  1 of 1 completed\n",
      "[*********************100%***********************]  1 of 1 completed\n",
      "[*********************100%***********************]  1 of 1 completed\n",
      "[*********************100%***********************]  1 of 1 completed\n",
      "[*********************100%***********************]  1 of 1 completed\n",
      "[*********************100%***********************]  1 of 1 completed\n",
      "[*********************100%***********************]  1 of 1 completed\n",
      "[*********************100%***********************]  1 of 1 completed\n",
      "[*********************100%***********************]  1 of 1 completed\n",
      "[*********************100%***********************]  1 of 1 completed\n",
      "[*********************100%***********************]  1 of 1 completed\n",
      "[*********************100%***********************]  1 of 1 completed\n",
      "[*********************100%***********************]  1 of 1 completed\n",
      "[*********************100%***********************]  1 of 1 completed\n",
      "[*********************100%***********************]  1 of 1 completed\n",
      "[*********************100%***********************]  1 of 1 completed\n",
      "[*********************100%***********************]  1 of 1 completed\n",
      "[*********************100%***********************]  1 of 1 completed\n",
      "[*********************100%***********************]  1 of 1 completed\n",
      "[*********************100%***********************]  1 of 1 completed\n",
      "[*********************100%***********************]  1 of 1 completed\n",
      "[*********************100%***********************]  1 of 1 completed\n",
      "[*********************100%***********************]  1 of 1 completed\n",
      "[*********************100%***********************]  1 of 1 completed\n",
      "ERROR:yfinance:\n",
      "1 Failed download:\n",
      "ERROR:yfinance:['SOLV']: YFInvalidPeriodError(\"%ticker%: Period '5y' is invalid, must be one of ['1d', '5d', '1mo', '3mo', '6mo', '1y', 'ytd', 'max']\")\n",
      "[*********************100%***********************]  1 of 1 completed\n",
      "[*********************100%***********************]  1 of 1 completed\n",
      "[*********************100%***********************]  1 of 1 completed\n",
      "[*********************100%***********************]  1 of 1 completed\n",
      "[*********************100%***********************]  1 of 1 completed\n",
      "[*********************100%***********************]  1 of 1 completed\n",
      "[*********************100%***********************]  1 of 1 completed\n",
      "[*********************100%***********************]  1 of 1 completed\n",
      "[*********************100%***********************]  1 of 1 completed\n",
      "[*********************100%***********************]  1 of 1 completed\n",
      "[*********************100%***********************]  1 of 1 completed\n",
      "[*********************100%***********************]  1 of 1 completed\n",
      "[*********************100%***********************]  1 of 1 completed\n",
      "[*********************100%***********************]  1 of 1 completed\n",
      "[*********************100%***********************]  1 of 1 completed\n",
      "[*********************100%***********************]  1 of 1 completed\n",
      "[*********************100%***********************]  1 of 1 completed\n",
      "[*********************100%***********************]  1 of 1 completed\n",
      "[*********************100%***********************]  1 of 1 completed\n",
      "[*********************100%***********************]  1 of 1 completed\n",
      "[*********************100%***********************]  1 of 1 completed\n",
      "[*********************100%***********************]  1 of 1 completed\n",
      "[*********************100%***********************]  1 of 1 completed\n",
      "[*********************100%***********************]  1 of 1 completed\n",
      "[*********************100%***********************]  1 of 1 completed\n",
      "[*********************100%***********************]  1 of 1 completed\n",
      "[*********************100%***********************]  1 of 1 completed\n",
      "[*********************100%***********************]  1 of 1 completed\n",
      "[*********************100%***********************]  1 of 1 completed\n",
      "[*********************100%***********************]  1 of 1 completed\n",
      "[*********************100%***********************]  1 of 1 completed\n",
      "[*********************100%***********************]  1 of 1 completed\n",
      "[*********************100%***********************]  1 of 1 completed\n",
      "[*********************100%***********************]  1 of 1 completed\n",
      "[*********************100%***********************]  1 of 1 completed\n",
      "[*********************100%***********************]  1 of 1 completed\n",
      "[*********************100%***********************]  1 of 1 completed\n",
      "[*********************100%***********************]  1 of 1 completed\n",
      "[*********************100%***********************]  1 of 1 completed\n",
      "[*********************100%***********************]  1 of 1 completed\n",
      "[*********************100%***********************]  1 of 1 completed\n",
      "[*********************100%***********************]  1 of 1 completed\n",
      "[*********************100%***********************]  1 of 1 completed\n",
      "[*********************100%***********************]  1 of 1 completed\n",
      "[*********************100%***********************]  1 of 1 completed\n",
      "[*********************100%***********************]  1 of 1 completed\n",
      "[*********************100%***********************]  1 of 1 completed\n",
      "[*********************100%***********************]  1 of 1 completed\n",
      "[*********************100%***********************]  1 of 1 completed\n",
      "[*********************100%***********************]  1 of 1 completed\n",
      "ERROR:yfinance:\n",
      "1 Failed download:\n",
      "ERROR:yfinance:['GEHC']: YFInvalidPeriodError(\"%ticker%: Period '5y' is invalid, must be one of ['1d', '5d', '1mo', '3mo', '6mo', '1y', '2y', 'ytd', 'max']\")\n",
      "[*********************100%***********************]  1 of 1 completed\n",
      "[*********************100%***********************]  1 of 1 completed\n",
      "[*********************100%***********************]  1 of 1 completed\n",
      "[*********************100%***********************]  1 of 1 completed\n",
      "[*********************100%***********************]  1 of 1 completed\n",
      "[*********************100%***********************]  1 of 1 completed\n",
      "[*********************100%***********************]  1 of 1 completed\n",
      "[*********************100%***********************]  1 of 1 completed\n",
      "[*********************100%***********************]  1 of 1 completed\n",
      "[*********************100%***********************]  1 of 1 completed\n",
      "[*********************100%***********************]  1 of 1 completed\n",
      "[*********************100%***********************]  1 of 1 completed\n",
      "[*********************100%***********************]  1 of 1 completed\n",
      "[*********************100%***********************]  1 of 1 completed\n",
      "[*********************100%***********************]  1 of 1 completed\n",
      "[*********************100%***********************]  1 of 1 completed\n",
      "[*********************100%***********************]  1 of 1 completed\n"
     ]
    },
    {
     "name": "stdout",
     "output_type": "stream",
     "text": [
      "Data successfully saved to ../output/corps_ori_data.csv\n"
     ]
    }
   ],
   "source": [
    "# EXAMPLE USEAGE\n",
    "tickers_list = [\n",
    "    'CI', 'WST', 'QGEN', 'PODD', 'GMED', 'CTLT', 'PEN', 'INCY', 'VKTX', 'MTD', 'LLY',\n",
    "    'VEEV', 'ALNY', 'IQV', 'ITCI', 'TMO', 'CNC', 'RVMD', 'HUM', 'JAZZ', 'DXCM', 'BDX',\n",
    "    'INSM', 'BIO', 'WAT', 'ABBV', 'MRNA', 'CRL', 'ABT', 'ENSG', 'RGEN', 'ICLR', 'SOLV',\n",
    "    'CHE', 'HQY', 'AMGN', 'STE', 'WBA', 'BSX', 'MDT', 'COR', 'BMRN', 'ALGN', 'COO', 'DHR',\n",
    "    'SMMT', 'ELV', 'ZTS', 'VTRS', 'RPRX', 'RMD', 'SRPT', 'LNTH', 'BMY', 'A', 'ZBH', 'PCVX',\n",
    "    'EXAS', 'ISRG', 'DVA', 'ILMN', 'ROIV', 'TECH', 'GILD', 'IDXX', 'EW', 'AVTR', 'MOH', 'UTHR',\n",
    "    'NTRA', 'EXEL', 'MRK', 'BIIB', 'HSIC', 'BAX', 'ATR', 'TFX', 'VRTX', 'CVS', 'UHS', 'EHC', 'MCK',\n",
    "    'GEHC', 'BRKR', 'JNJ', 'NBIX', 'RVTY', 'HCA', 'UNH', 'THC', 'SYK', 'LH', 'DOCS', 'HOLX', 'DGX',\n",
    "    'REGN', 'MEDP', 'CAH', 'MASI', 'PFE'\n",
    "]\n",
    "\n",
    "output_file_path = '../output/corps_ori_data.csv'\n",
    "collect_and_save_data(tickers_list, output_file_path)\n"
   ]
  }
 ],
 "metadata": {
  "colab": {
   "provenance": [],
   "toc_visible": true
  },
  "kernelspec": {
   "display_name": ".venv",
   "language": "python",
   "name": "python3"
  },
  "language_info": {
   "codemirror_mode": {
    "name": "ipython",
    "version": 3
   },
   "file_extension": ".py",
   "mimetype": "text/x-python",
   "name": "python",
   "nbconvert_exporter": "python",
   "pygments_lexer": "ipython3",
   "version": "3.9.7"
  }
 },
 "nbformat": 4,
 "nbformat_minor": 0
}
